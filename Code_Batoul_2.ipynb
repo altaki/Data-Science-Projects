{
  "cells": [
    {
      "cell_type": "markdown",
      "metadata": {
        "id": "view-in-github",
        "colab_type": "text"
      },
      "source": [
        "<a href=\"https://colab.research.google.com/github/altaki/Data-Science-Projects/blob/main/Code_Batoul_2.ipynb\" target=\"_parent\"><img src=\"https://colab.research.google.com/assets/colab-badge.svg\" alt=\"Open In Colab\"/></a>"
      ]
    },
    {
      "cell_type": "code",
      "execution_count": 1,
      "metadata": {
        "id": "3VvOdFIJM6Ce"
      },
      "outputs": [],
      "source": [
        "import pandas as pd\n",
        "import numpy as np\n",
        "from sklearn.ensemble import RandomForestRegressor"
      ]
    },
    {
      "cell_type": "code",
      "execution_count": 2,
      "metadata": {
        "colab": {
          "base_uri": "https://localhost:8080/"
        },
        "id": "elCqkh58M6Cg",
        "outputId": "c3bb9cd8-b2c1-449c-ba3c-f16ce411cda3"
      },
      "outputs": [
        {
          "output_type": "stream",
          "name": "stdout",
          "text": [
            "NaN counts in the dataset:\n",
            "N°Obs                                                        0\n",
            "2. 1. Avez-vous déjà vu une campagne de produit partage ?    0\n",
            "4. 3. Avez-vous déjà acheté un produit partage ?             0\n",
            "6. Les produits de Volvic me rassurent                       0\n",
            "7. J’ai confiance dans la qualité des produits de Volvic     0\n",
            "                                                            ..\n",
            "Genre                                                        0\n",
            "Situation_familiale                                          0\n",
            "Niveau_etude                                                 0\n",
            "Profession                                                   0\n",
            "Revenu_net_mensuel                                           0\n",
            "Length: 76, dtype: int64\n"
          ]
        }
      ],
      "source": [
        "# Load the data from the Excel sheet\n",
        "survey_data = pd.read_excel('Ba.xlsx')\n",
        "\n",
        "# Check for NaN values in the dataset\n",
        "nan_counts = survey_data.isna().sum()\n",
        "print(\"NaN counts in the dataset:\")\n",
        "print(nan_counts)"
      ]
    },
    {
      "cell_type": "code",
      "execution_count": 3,
      "metadata": {
        "id": "Ay03bXDqM6Cg"
      },
      "outputs": [],
      "source": [
        "# Handle NaN values by imputing with the mean\n",
        "if nan_counts.sum() > 0:\n",
        "    survey_data = survey_data.fillna(survey_data.mean())"
      ]
    },
    {
      "cell_type": "code",
      "source": [
        "\n",
        "# Define the demographic columns\n",
        "demographic_columns = ['Genre', 'Profession', 'Situation_familiale', 'Age', 'Niveau_etude']\n",
        "\n",
        "# Identify the question columns\n",
        "question_columns = [col for col in survey_data.columns if col not in demographic_columns]\n",
        "\n",
        "# Separate the features and targets\n",
        "X = survey_data[demographic_columns]\n",
        "y = survey_data[question_columns]\n",
        "\n",
        "# Initialize and train a Random Forest regressor on all features\n",
        "regressor = RandomForestRegressor()\n",
        "regressor.fit(X, y)\n",
        "\n",
        "# Number of new individuals to generate\n",
        "new_individuals_count = 300"
      ],
      "metadata": {
        "id": "T847tSPZUROa"
      },
      "execution_count": 4,
      "outputs": []
    },
    {
      "cell_type": "code",
      "execution_count": 5,
      "metadata": {
        "id": "rNOMHCmXM6Ch"
      },
      "outputs": [],
      "source": [
        "# Define quotas for demographic features only\n",
        "quotas = {\n",
        "    'Age': {1: 0.08, 2: 0.12, 3: 0.12, 4: 0.13, 5: 0.13, 6: 0.17},\n",
        "    'Genre': {1: 0.48, 2: 0.52},  # 1: Male, 2: Female\n",
        "    'Situation_familiale': {1: 0.4, 2: 0.4, 3: 0.2, 4: 0.0},\n",
        "    'Niveau_etude': {1: 0.0, 2: 0.0, 3: 0.2, 4: 0.23, 5: 0.27, 6: 0.3},\n",
        "    'Profession': {1: 0.18, 2: 0.12, 3: 0.13, 4: 0.0, 5: 0.15, 6: 0.25, 7: 0.0, 8: 0.12, 9: 0.05}\n",
        "}"
      ]
    },
    {
      "cell_type": "code",
      "source": [],
      "metadata": {
        "id": "M4WXoIHgk85l"
      },
      "execution_count": 5,
      "outputs": []
    },
    {
      "cell_type": "code",
      "source": [
        "# Function to generate new individuals with specified quotas\n",
        "def generate_new_individuals(quotas, total_count):\n",
        "    new_data = {column: [] for column in quotas.keys()}\n",
        "\n",
        "    for column, column_quotas in quotas.items():\n",
        "        remaining_count = total_count\n",
        "        category_counts = []\n",
        "\n",
        "        for category, proportion in column_quotas.items():\n",
        "            count = int(total_count * proportion)\n",
        "            category_counts.append(count)\n",
        "            remaining_count -= count\n",
        "\n",
        "        # Adjust the last category to ensure the total count is exactly total_count\n",
        "        if remaining_count != 0:\n",
        "            category_counts[-1] += remaining_count\n",
        "\n",
        "        for i, (category, _) in enumerate(column_quotas.items()):\n",
        "            new_data[column].extend([category] * category_counts[i])\n",
        "\n",
        "    # Shuffle the new data to ensure random distribution\n",
        "    for column in new_data:\n",
        "        np.random.shuffle(new_data[column])\n",
        "\n",
        "    return pd.DataFrame(new_data)"
      ],
      "metadata": {
        "id": "wWJIhKx6cDRZ"
      },
      "execution_count": 6,
      "outputs": []
    },
    {
      "cell_type": "code",
      "source": [
        "# Generate the new individuals based on quotas\n",
        "new_individuals_demographics = generate_new_individuals(quotas, new_individuals_count)"
      ],
      "metadata": {
        "id": "q8L7UqbSjofg"
      },
      "execution_count": 8,
      "outputs": []
    },
    {
      "cell_type": "code",
      "source": [
        "# Generate the new individuals based on quotas\n",
        "new_individuals_demographics = generate_new_individuals(quotas, new_individuals_count)\n",
        "\n",
        "# Generate random responses for non-demographic questions\n",
        "random_responses = np.random.randint(1, 6, size=(new_individuals_count, len(question_columns)))\n",
        "\n",
        "# Create a DataFrame for new individuals with demographic data and random question responses\n",
        "new_individuals = pd.concat([new_individuals_demographics.reset_index(drop=True),\n",
        "                             pd.DataFrame(random_responses, columns=question_columns)], axis=1)\n",
        "\n",
        "# Predict final answers for the survey questions using the trained model\n",
        "predicted_answers = regressor.predict(new_individuals[demographic_columns])\n",
        "new_individuals[question_columns] = predicted_answers.astype(int)\n",
        "\n",
        "# Concatenate the original data and new individuals\n",
        "combined_data = pd.concat([survey_data, new_individuals], ignore_index=True)\n",
        "\n",
        "# Sort the combined data by index\n",
        "combined_data_sorted = combined_data.sort_index()\n",
        "\n",
        "# Export the sorted combined data to an Excel sheet\n",
        "combined_data_sorted.to_excel('combined_data_sorted.xlsx', index=False)"
      ],
      "metadata": {
        "id": "G0_KghAoO1zF"
      },
      "execution_count": 9,
      "outputs": []
    },
    {
      "cell_type": "code",
      "execution_count": 10,
      "metadata": {
        "colab": {
          "base_uri": "https://localhost:8080/"
        },
        "id": "Zv0jwNhXM6Ck",
        "outputId": "e1535def-4c41-4777-b424-d142597a5fc6"
      },
      "outputs": [
        {
          "output_type": "execute_result",
          "data": {
            "text/plain": [
              "(450, 76)"
            ]
          },
          "metadata": {},
          "execution_count": 10
        }
      ],
      "source": [
        "combined_data_sorted.shape"
      ]
    },
    {
      "cell_type": "code",
      "source": [],
      "metadata": {
        "id": "YhNb_G9Uph7R"
      },
      "execution_count": null,
      "outputs": []
    }
  ],
  "metadata": {
    "kernelspec": {
      "display_name": "Python 3",
      "language": "python",
      "name": "python3"
    },
    "language_info": {
      "codemirror_mode": {
        "name": "ipython",
        "version": 3
      },
      "file_extension": ".py",
      "mimetype": "text/x-python",
      "name": "python",
      "nbconvert_exporter": "python",
      "pygments_lexer": "ipython3",
      "version": "3.8.8"
    },
    "colab": {
      "provenance": [],
      "include_colab_link": true
    }
  },
  "nbformat": 4,
  "nbformat_minor": 0
}