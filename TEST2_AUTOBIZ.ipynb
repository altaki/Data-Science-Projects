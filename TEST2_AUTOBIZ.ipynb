{
 "cells": [
  {
   "cell_type": "code",
   "execution_count": 1,
   "id": "dc6e3314",
   "metadata": {},
   "outputs": [],
   "source": [
    "import numpy as np\n",
    "import pandas as pd\n",
    "import matplotlib.pyplot as plt\n",
    "import seaborn as sns"
   ]
  },
  {
   "cell_type": "code",
   "execution_count": 2,
   "id": "9e0547eb",
   "metadata": {},
   "outputs": [
    {
     "name": "stdout",
     "output_type": "stream",
     "text": [
      "Requirement already satisfied: fast_ml in c:\\users\\bilal\\appdata\\local\\programs\\python\\python39\\lib\\site-packages (3.68)Note: you may need to restart the kernel to use updated packages.\n",
      "\n"
     ]
    },
    {
     "name": "stderr",
     "output_type": "stream",
     "text": [
      "WARNING: You are using pip version 22.0.4; however, version 22.2.1 is available.\n",
      "You should consider upgrading via the 'c:\\users\\bilal\\appdata\\local\\programs\\python\\python39\\python.exe -m pip install --upgrade pip' command.\n"
     ]
    }
   ],
   "source": [
    "pip install fast_ml"
   ]
  },
  {
   "cell_type": "code",
   "execution_count": 3,
   "id": "ee99a5d4",
   "metadata": {},
   "outputs": [],
   "source": [
    "#call_data\n",
    "df = pd.read_excel('rpi_volvo_de_test.xlsx')"
   ]
  },
  {
   "cell_type": "code",
   "execution_count": 4,
   "id": "00eca8aa",
   "metadata": {},
   "outputs": [
    {
     "data": {
      "text/html": [
       "<div>\n",
       "<style scoped>\n",
       "    .dataframe tbody tr th:only-of-type {\n",
       "        vertical-align: middle;\n",
       "    }\n",
       "\n",
       "    .dataframe tbody tr th {\n",
       "        vertical-align: top;\n",
       "    }\n",
       "\n",
       "    .dataframe thead th {\n",
       "        text-align: right;\n",
       "    }\n",
       "</style>\n",
       "<table border=\"1\" class=\"dataframe\">\n",
       "  <thead>\n",
       "    <tr style=\"text-align: right;\">\n",
       "      <th></th>\n",
       "      <th>VO_ANNONCE_ID</th>\n",
       "      <th>MARQUE</th>\n",
       "      <th>MODELE</th>\n",
       "      <th>CARBURANT</th>\n",
       "      <th>CARROSSERIE</th>\n",
       "      <th>ANNEE</th>\n",
       "      <th>REF_ID</th>\n",
       "      <th>REFERENCE_PROBABILITE</th>\n",
       "      <th>COTE_VO</th>\n",
       "      <th>PRIX_VENTE_TTC</th>\n",
       "      <th>...</th>\n",
       "      <th>KM</th>\n",
       "      <th>MODELE1</th>\n",
       "      <th>MODELE2</th>\n",
       "      <th>CARBURANT1</th>\n",
       "      <th>CARBURANT2</th>\n",
       "      <th>GENRE</th>\n",
       "      <th>METALIC_IND</th>\n",
       "      <th>SEGMENT_NAME</th>\n",
       "      <th>CROSSCOUNTRY</th>\n",
       "      <th>CARROSSERIE2</th>\n",
       "    </tr>\n",
       "  </thead>\n",
       "  <tbody>\n",
       "    <tr>\n",
       "      <th>0</th>\n",
       "      <td>2</td>\n",
       "      <td>VOLVO</td>\n",
       "      <td>V60</td>\n",
       "      <td>DIESEL</td>\n",
       "      <td>BREAK</td>\n",
       "      <td>2016</td>\n",
       "      <td>110987</td>\n",
       "      <td>0.99</td>\n",
       "      <td>28973</td>\n",
       "      <td>21869.80</td>\n",
       "      <td>...</td>\n",
       "      <td>25989</td>\n",
       "      <td>V</td>\n",
       "      <td>60</td>\n",
       "      <td>DIESEL</td>\n",
       "      <td>DIESEL</td>\n",
       "      <td>VP</td>\n",
       "      <td>Y</td>\n",
       "      <td>MOYEN</td>\n",
       "      <td>N</td>\n",
       "      <td>BREAK</td>\n",
       "    </tr>\n",
       "    <tr>\n",
       "      <th>1</th>\n",
       "      <td>3</td>\n",
       "      <td>VOLVO</td>\n",
       "      <td>S60</td>\n",
       "      <td>DIESEL</td>\n",
       "      <td>BERLINE</td>\n",
       "      <td>2015</td>\n",
       "      <td>110872</td>\n",
       "      <td>0.99</td>\n",
       "      <td>32559</td>\n",
       "      <td>20907.12</td>\n",
       "      <td>...</td>\n",
       "      <td>2662</td>\n",
       "      <td>S</td>\n",
       "      <td>60</td>\n",
       "      <td>DIESEL</td>\n",
       "      <td>DIESEL</td>\n",
       "      <td>VP</td>\n",
       "      <td>Y</td>\n",
       "      <td>MOYEN</td>\n",
       "      <td>N</td>\n",
       "      <td>BERLINE</td>\n",
       "    </tr>\n",
       "    <tr>\n",
       "      <th>2</th>\n",
       "      <td>4</td>\n",
       "      <td>VOLVO</td>\n",
       "      <td>XC60</td>\n",
       "      <td>DIESEL</td>\n",
       "      <td>4X4 S.U.V</td>\n",
       "      <td>2016</td>\n",
       "      <td>111095</td>\n",
       "      <td>0.99</td>\n",
       "      <td>36742</td>\n",
       "      <td>30556.11</td>\n",
       "      <td>...</td>\n",
       "      <td>16951</td>\n",
       "      <td>XC</td>\n",
       "      <td>60</td>\n",
       "      <td>DIESEL</td>\n",
       "      <td>DIESEL</td>\n",
       "      <td>VP</td>\n",
       "      <td>Y</td>\n",
       "      <td>MINI_SUV</td>\n",
       "      <td>N</td>\n",
       "      <td>4X4 S.U.V</td>\n",
       "    </tr>\n",
       "    <tr>\n",
       "      <th>3</th>\n",
       "      <td>5</td>\n",
       "      <td>VOLVO</td>\n",
       "      <td>V60</td>\n",
       "      <td>DIESEL</td>\n",
       "      <td>BREAK</td>\n",
       "      <td>2016</td>\n",
       "      <td>110987</td>\n",
       "      <td>0.99</td>\n",
       "      <td>29036</td>\n",
       "      <td>21871.94</td>\n",
       "      <td>...</td>\n",
       "      <td>24770</td>\n",
       "      <td>V</td>\n",
       "      <td>60</td>\n",
       "      <td>DIESEL</td>\n",
       "      <td>DIESEL</td>\n",
       "      <td>VP</td>\n",
       "      <td>Y</td>\n",
       "      <td>MOYEN</td>\n",
       "      <td>N</td>\n",
       "      <td>BREAK</td>\n",
       "    </tr>\n",
       "    <tr>\n",
       "      <th>4</th>\n",
       "      <td>6</td>\n",
       "      <td>VOLVO</td>\n",
       "      <td>V70</td>\n",
       "      <td>DIESEL</td>\n",
       "      <td>BREAK</td>\n",
       "      <td>2016</td>\n",
       "      <td>65931</td>\n",
       "      <td>0.99</td>\n",
       "      <td>34458</td>\n",
       "      <td>27319.00</td>\n",
       "      <td>...</td>\n",
       "      <td>23955</td>\n",
       "      <td>V</td>\n",
       "      <td>70</td>\n",
       "      <td>DIESEL</td>\n",
       "      <td>DIESEL</td>\n",
       "      <td>VP</td>\n",
       "      <td>Y</td>\n",
       "      <td>MOYEN_GRAND</td>\n",
       "      <td>N</td>\n",
       "      <td>BREAK</td>\n",
       "    </tr>\n",
       "  </tbody>\n",
       "</table>\n",
       "<p>5 rows × 21 columns</p>\n",
       "</div>"
      ],
      "text/plain": [
       "   VO_ANNONCE_ID MARQUE MODELE CARBURANT CARROSSERIE  ANNEE  REF_ID  \\\n",
       "0              2  VOLVO    V60    DIESEL       BREAK   2016  110987   \n",
       "1              3  VOLVO    S60    DIESEL     BERLINE   2015  110872   \n",
       "2              4  VOLVO   XC60    DIESEL   4X4 S.U.V   2016  111095   \n",
       "3              5  VOLVO    V60    DIESEL       BREAK   2016  110987   \n",
       "4              6  VOLVO    V70    DIESEL       BREAK   2016   65931   \n",
       "\n",
       "   REFERENCE_PROBABILITE  COTE_VO  PRIX_VENTE_TTC  ...     KM  MODELE1  \\\n",
       "0                   0.99    28973        21869.80  ...  25989        V   \n",
       "1                   0.99    32559        20907.12  ...   2662        S   \n",
       "2                   0.99    36742        30556.11  ...  16951       XC   \n",
       "3                   0.99    29036        21871.94  ...  24770        V   \n",
       "4                   0.99    34458        27319.00  ...  23955        V   \n",
       "\n",
       "  MODELE2  CARBURANT1 CARBURANT2 GENRE METALIC_IND SEGMENT_NAME CROSSCOUNTRY  \\\n",
       "0      60      DIESEL     DIESEL    VP           Y        MOYEN            N   \n",
       "1      60      DIESEL     DIESEL    VP           Y        MOYEN            N   \n",
       "2      60      DIESEL     DIESEL    VP           Y     MINI_SUV            N   \n",
       "3      60      DIESEL     DIESEL    VP           Y        MOYEN            N   \n",
       "4      70      DIESEL     DIESEL    VP           Y  MOYEN_GRAND            N   \n",
       "\n",
       "  CARROSSERIE2  \n",
       "0        BREAK  \n",
       "1      BERLINE  \n",
       "2    4X4 S.U.V  \n",
       "3        BREAK  \n",
       "4        BREAK  \n",
       "\n",
       "[5 rows x 21 columns]"
      ]
     },
     "execution_count": 4,
     "metadata": {},
     "output_type": "execute_result"
    }
   ],
   "source": [
    "df.head()"
   ]
  },
  {
   "cell_type": "code",
   "execution_count": 5,
   "id": "bfc5c8d3",
   "metadata": {},
   "outputs": [
    {
     "data": {
      "text/plain": [
       "(27614, 21)"
      ]
     },
     "execution_count": 5,
     "metadata": {},
     "output_type": "execute_result"
    }
   ],
   "source": [
    "df.shape"
   ]
  },
  {
   "cell_type": "code",
   "execution_count": 6,
   "id": "31bedbf6",
   "metadata": {},
   "outputs": [],
   "source": [
    "#Upon request we can reduce the frais de remise en état 'FRE' from the 'PRIX_VENTE_TTC', and so drop the column 'FRE'\n",
    "df['PRIX_VENTE_TTC'] = df['PRIX_VENTE_TTC'] - df['FRE']"
   ]
  },
  {
   "cell_type": "markdown",
   "id": "83b6bab3",
   "metadata": {},
   "source": [
    "# Q1. What are the important features"
   ]
  },
  {
   "cell_type": "markdown",
   "id": "34b30ece",
   "metadata": {},
   "source": [
    "There are many way to determine the important features. \n",
    "1. We look first if there are variables with a lot of missing data. In this case, it's better to drop this feature.\n",
    "2. We can eliminate constant features functions by appealing the 'get_constant_features'. \n",
    "3. We look if there are repeated features. For example here, we shall see the difference between the features: 'Carburant', Carburant', 'Carburant2'.\n",
    "\n",
    "  3.1. In case these features are distinct, then they are correlated and we shall drop two of them after looking at correlation matrix\n",
    "4. We look finally the effect of each feature on the target variable. If the change of values in feature variables leads to significant change in the target variable, then this feature must be keeped. Otherwise, we can drop this feature   "
   ]
  },
  {
   "cell_type": "code",
   "execution_count": 7,
   "id": "a4408ad3",
   "metadata": {},
   "outputs": [
    {
     "data": {
      "text/plain": [
       "VO_ANNONCE_ID            0\n",
       "MARQUE                   0\n",
       "MODELE                   0\n",
       "CARBURANT                0\n",
       "CARROSSERIE              0\n",
       "ANNEE                    0\n",
       "REF_ID                   0\n",
       "REFERENCE_PROBABILITE    0\n",
       "COTE_VO                  0\n",
       "PRIX_VENTE_TTC           0\n",
       "FRE                      0\n",
       "KM                       0\n",
       "MODELE1                  0\n",
       "MODELE2                  0\n",
       "CARBURANT1               0\n",
       "CARBURANT2               0\n",
       "GENRE                    0\n",
       "METALIC_IND              0\n",
       "SEGMENT_NAME             0\n",
       "CROSSCOUNTRY             0\n",
       "CARROSSERIE2             0\n",
       "dtype: int64"
      ]
     },
     "execution_count": 7,
     "metadata": {},
     "output_type": "execute_result"
    }
   ],
   "source": [
    "# Explorotary data analysis \n",
    "\n",
    "# Total missing values for each feature\n",
    "df.isnull().sum()"
   ]
  },
  {
   "cell_type": "markdown",
   "id": "dd2ca425",
   "metadata": {},
   "source": [
    "No missing values. No feature could be dropped at this stage."
   ]
  },
  {
   "cell_type": "code",
   "execution_count": 8,
   "id": "ec8e74c7",
   "metadata": {},
   "outputs": [],
   "source": [
    "# Explorotary data analysis \n",
    "\n",
    "#We can remark that the feature 'MODELE' is the combination of 'MODELE1' and 'MODELE2'. So we can drop the last two features.\n",
    "\n",
    "df = df.drop(['MODELE1', 'MODELE2'], axis= 1)   # 'MODELE1' and 'MODELE2' included in 'MODELE'"
   ]
  },
  {
   "cell_type": "code",
   "execution_count": 9,
   "id": "8e681403",
   "metadata": {},
   "outputs": [
    {
     "name": "stdout",
     "output_type": "stream",
     "text": [
      "DIESEL                15767\n",
      "ESSENCE                6812\n",
      "DIESEL_ELECTRIQUE      2728\n",
      "ESSENCE_ELECTRIQUE     2286\n",
      "ELECTRIQUE               21\n",
      "Name: CARBURANT, dtype: int64\n",
      "DIESEL        15767\n",
      "ESSENCE        6812\n",
      "HYBRID         5014\n",
      "ELECTRIQUE       21\n",
      "Name: CARBURANT1, dtype: int64\n",
      "DIESEL        18495\n",
      "ESSENCE        9098\n",
      "ELECTRIQUE       21\n",
      "Name: CARBURANT2, dtype: int64\n"
     ]
    }
   ],
   "source": [
    "#we look at the difference between the features 'CARBURANT', 'CARBURANT1' and 'CARBURANT2'\n",
    "print(df['CARBURANT'].value_counts())\n",
    "print(df['CARBURANT1'].value_counts())\n",
    "print(df['CARBURANT2'].value_counts())"
   ]
  },
  {
   "cell_type": "markdown",
   "id": "e45ad755",
   "metadata": {},
   "source": [
    "We can notice here that the difference between the above features 'CARBURANT' and 'CARBURANT2' is just the characteristic 'HYPRID' in 'CARBURANT1' is decomposed into 'DIESEL_ELECTRIQUE' and 'ESSENCE_ELECTRIQUE' in 'CARBURANT2'. So we can drop 'CARBURANT1' since this feature is included in 'CARBURANT'.\n",
    "\n",
    "Moreover, we notice that if CARBURANT=DIESEL_ELECTRIQUE -> CARBURANT1=HYBRID and CARBURANT2=DIESEL ; (18495=15767+2728) if CARBURANT=ESSENCE_ELECTRIQUE -> CARBURANT1=HYBRID and CARBURANT2=ESSENCE (9098= 6812+2286)\n",
    "\n",
    "So we can drop also 'CARBURANT2' since this feature is included in 'CARBURANT'."
   ]
  },
  {
   "cell_type": "code",
   "execution_count": 10,
   "id": "d26fbb18",
   "metadata": {},
   "outputs": [],
   "source": [
    "df = df.drop(['CARBURANT1', 'CARBURANT2'], axis= 1) "
   ]
  },
  {
   "cell_type": "code",
   "execution_count": 11,
   "id": "4fc57bc2",
   "metadata": {},
   "outputs": [
    {
     "name": "stdout",
     "output_type": "stream",
     "text": [
      "4X4 S.U.V    17806\n",
      "BREAK         6071\n",
      "BERLINE       3737\n",
      "Name: CARROSSERIE, dtype: int64\n",
      "4X4 S.U.V        15955\n",
      "BREAK             6071\n",
      "BERLINE           3737\n",
      "CROSS-COUNTRY     1851\n",
      "Name: CARROSSERIE2, dtype: int64\n"
     ]
    }
   ],
   "source": [
    "#same reasoning for the features 'CARROSSERIE' and 'CARROSSERIE2'\n",
    "print(df['CARROSSERIE'].value_counts())\n",
    "print(df['CARROSSERIE2'].value_counts())"
   ]
  },
  {
   "cell_type": "code",
   "execution_count": 12,
   "id": "fb6f28b3",
   "metadata": {},
   "outputs": [],
   "source": [
    "df = df.drop(['CARROSSERIE'], axis= 1)   # 'CAROSSERIE' is included in 'CARROSSERIE2'"
   ]
  },
  {
   "cell_type": "code",
   "execution_count": 13,
   "id": "270e41af",
   "metadata": {},
   "outputs": [
    {
     "name": "stdout",
     "output_type": "stream",
     "text": [
      "N    25763\n",
      "Y     1851\n",
      "Name: CROSSCOUNTRY, dtype: int64\n"
     ]
    }
   ],
   "source": [
    "print(df['CROSSCOUNTRY'].value_counts())"
   ]
  },
  {
   "cell_type": "code",
   "execution_count": 14,
   "id": "581c6212",
   "metadata": {},
   "outputs": [],
   "source": [
    "# We can also remark that this feature is also included in 'CARROSSERIE2' (look at the number 1851)\n",
    "df = df.drop(['CROSSCOUNTRY'], axis= 1) "
   ]
  },
  {
   "cell_type": "code",
   "execution_count": 15,
   "id": "8d8d8332",
   "metadata": {},
   "outputs": [
    {
     "data": {
      "text/html": [
       "<div>\n",
       "<style scoped>\n",
       "    .dataframe tbody tr th:only-of-type {\n",
       "        vertical-align: middle;\n",
       "    }\n",
       "\n",
       "    .dataframe tbody tr th {\n",
       "        vertical-align: top;\n",
       "    }\n",
       "\n",
       "    .dataframe thead th {\n",
       "        text-align: right;\n",
       "    }\n",
       "</style>\n",
       "<table border=\"1\" class=\"dataframe\">\n",
       "  <thead>\n",
       "    <tr style=\"text-align: right;\">\n",
       "      <th></th>\n",
       "      <th>Desc</th>\n",
       "      <th>Var</th>\n",
       "      <th>Value</th>\n",
       "      <th>Perc</th>\n",
       "    </tr>\n",
       "  </thead>\n",
       "  <tbody>\n",
       "    <tr>\n",
       "      <th>0</th>\n",
       "      <td>Constant</td>\n",
       "      <td>MARQUE</td>\n",
       "      <td>VOLVO</td>\n",
       "      <td>100.0</td>\n",
       "    </tr>\n",
       "    <tr>\n",
       "      <th>1</th>\n",
       "      <td>Constant</td>\n",
       "      <td>GENRE</td>\n",
       "      <td>VP</td>\n",
       "      <td>100.0</td>\n",
       "    </tr>\n",
       "  </tbody>\n",
       "</table>\n",
       "</div>"
      ],
      "text/plain": [
       "       Desc     Var  Value   Perc\n",
       "0  Constant  MARQUE  VOLVO  100.0\n",
       "1  Constant   GENRE     VP  100.0"
      ]
     },
     "execution_count": 15,
     "metadata": {},
     "output_type": "execute_result"
    }
   ],
   "source": [
    "#Use the get_constant_features functions to get all the constant features.\n",
    "\n",
    "from fast_ml.utilities import display_all\n",
    "from fast_ml.feature_selection import get_constant_features\n",
    "\n",
    "constant_features = get_constant_features(df)\n",
    "constant_features.head(10)"
   ]
  },
  {
   "cell_type": "code",
   "execution_count": 16,
   "id": "2e44c439",
   "metadata": {},
   "outputs": [
    {
     "name": "stdout",
     "output_type": "stream",
     "text": [
      "1\n",
      "1\n",
      "27614\n"
     ]
    }
   ],
   "source": [
    "# drop 'MARQUE', 'GENRE' from get_constant_features functions\n",
    "\n",
    "print(len(df[\"GENRE\"].unique())) # for verification\n",
    "print(len(df[\"MARQUE\"].unique())) # for verification\n",
    "\n",
    "# drop 'VO_ANNONCE_ID' as all values in this features are numerical and distinct\n",
    "\n",
    "print(len(df[\"VO_ANNONCE_ID\"].unique())) # for verification\n",
    "\n",
    "# we expect that the feature 'REF_ID' contains distincts numerical values, however it's not the case\n",
    "  #print(len(df[\"REF_ID\"].unique()))= 594, and so we can't drop this feature."
   ]
  },
  {
   "cell_type": "code",
   "execution_count": 17,
   "id": "b68b4e06",
   "metadata": {},
   "outputs": [],
   "source": [
    "columns_to_keep = [\"REF_ID\", \"REFERENCE_PROBABILITE\", \"METALIC_IND\", \"SEGMENT_NAME\",\n",
    "                   \"CARROSSERIE2\", \"CARBURANT\", \"MODELE\", \"ANNEE\", \"COTE_VO\",\n",
    "                   \"FRE\", \"KM\", \"PRIX_VENTE_TTC\"]\n",
    "data = df[columns_to_keep]"
   ]
  },
  {
   "cell_type": "markdown",
   "id": "b9c0b32e",
   "metadata": {},
   "source": [
    "* formal observation:\n",
    "\n",
    "Up to now, we have dropped severals features based on observation (feature included in an another, constant features, different numerical values in each features, etc). \n"
   ]
  },
  {
   "cell_type": "code",
   "execution_count": 18,
   "id": "9a53e568",
   "metadata": {},
   "outputs": [
    {
     "name": "stdout",
     "output_type": "stream",
     "text": [
      "                         REF_ID  REFERENCE_PROBABILITE     ANNEE   COTE_VO  \\\n",
      "REF_ID                 1.000000               0.039403  0.200142  0.145712   \n",
      "REFERENCE_PROBABILITE  0.039403               1.000000 -0.365119 -0.219806   \n",
      "ANNEE                  0.200142              -0.365119  1.000000  0.186307   \n",
      "COTE_VO                0.145712              -0.219806  0.186307  1.000000   \n",
      "FRE                   -0.066390               0.060954 -0.175324  0.042158   \n",
      "KM                    -0.086651               0.076160 -0.206383 -0.024571   \n",
      "PRIX_VENTE_TTC         0.164448              -0.262633  0.327125  0.918086   \n",
      "\n",
      "                            FRE        KM  PRIX_VENTE_TTC  \n",
      "REF_ID                -0.066390 -0.086651        0.164448  \n",
      "REFERENCE_PROBABILITE  0.060954  0.076160       -0.262633  \n",
      "ANNEE                 -0.175324 -0.206383        0.327125  \n",
      "COTE_VO                0.042158 -0.024571        0.918086  \n",
      "FRE                    1.000000  0.954194        0.018143  \n",
      "KM                     0.954194  1.000000       -0.056524  \n",
      "PRIX_VENTE_TTC         0.018143 -0.056524        1.000000  \n"
     ]
    },
    {
     "data": {
      "text/plain": [
       "None"
      ]
     },
     "metadata": {},
     "output_type": "display_data"
    }
   ],
   "source": [
    "# decompose columns into categorial columns and numerical columns\n",
    "categorical_cols = [\"REF_ID\",\"METALIC_IND\",\"SEGMENT_NAME\", \"CARROSSERIE2\", \"CARBURANT\", \"MODELE\"]\n",
    "numerical_cols   = [\"REFERENCE_PROBABILITE\", \"ANNEE\", \"COTE_VO\",\"FRE\", \"KM\", \"PRIX_VENTE_TTC\"]\n",
    "\n",
    "# we can look at the correlation matrix between the numerical features\n",
    "display(print(data.corr()))"
   ]
  },
  {
   "cell_type": "markdown",
   "id": "cbdb7bd6",
   "metadata": {},
   "source": [
    "Conclusion: it's clear that the feature 'PRIX_VENTE_TTC' is strongly related to the feature 'COTE_VO', and so this feature must be between the important features. Between the rest, we notice that the feature 'PRIX_VENTE_TTC' is also correlated to the feature 'ANNEE'."
   ]
  },
  {
   "cell_type": "markdown",
   "id": "1a600eb8",
   "metadata": {},
   "source": [
    "Remark: the above observations were for numerical features. For categorial features I tried to search online in something similar and the result of my research is to transform my categorial data into numerical data. However, this will increase the number of features, and as a consequence this will reduce the performance of our algorithm. It may exist another way to look for important features between the categorial features that I don't know...."
   ]
  },
  {
   "cell_type": "markdown",
   "id": "abd90b00",
   "metadata": {},
   "source": [
    "# GradientBoosting Algorithm"
   ]
  },
  {
   "cell_type": "markdown",
   "id": "4861180f",
   "metadata": {},
   "source": [
    "At the first stage, I thought about using \"MultivariateRegression\" to predict the value of 'PRIX_VENTE_TTC' in term of the other features. However, as I need an alogrithm that shall be able to determine the important features, then I choosed to use 'GradientBoosting' algorithm since:\n",
    "\n",
    "\"\"\"A benefit of using gradient boosting is that after the boosted trees are constructed, it is relatively straightforward to retrieve importance scores for each attribute.\"\"\""
   ]
  },
  {
   "cell_type": "code",
   "execution_count": 19,
   "id": "85956d6a",
   "metadata": {},
   "outputs": [
    {
     "name": "stdout",
     "output_type": "stream",
     "text": [
      "(27614, 627)\n"
     ]
    }
   ],
   "source": [
    "#first step: convert categorial data to numerical data using \n",
    "\n",
    "from sklearn.preprocessing import OneHotEncoder\n",
    "enc = OneHotEncoder(handle_unknown='ignore')\n",
    "data_to_encode = data[categorical_cols]\n",
    "encoded_data = enc.fit_transform(data_to_encode)\n",
    "\n",
    "cats = [ ele for sublist in enc.categories_ for ele in sublist] \n",
    "categorical_data = pd.DataFrame(encoded_data.toarray(), columns = cats)\n",
    "numerical_data = data[numerical_cols]\n",
    "new_data = pd.concat([numerical_data,categorical_data], axis=1)\n",
    "print(new_data.shape)\n",
    "\n",
    "X = new_data.loc[:, new_data.columns != \"PRIX_VENTE_TTC\"]\n",
    "y = new_data[\"PRIX_VENTE_TTC\"]"
   ]
  },
  {
   "cell_type": "code",
   "execution_count": 20,
   "id": "4f61b764",
   "metadata": {},
   "outputs": [
    {
     "name": "stderr",
     "output_type": "stream",
     "text": [
      "c:\\users\\bilal\\appdata\\local\\programs\\python\\python39\\lib\\site-packages\\sklearn\\utils\\validation.py:1688: FutureWarning: Feature names only support names that are all strings. Got feature names with dtypes: ['int64', 'str']. An error will be raised in 1.2.\n",
      "  warnings.warn(\n",
      "c:\\users\\bilal\\appdata\\local\\programs\\python\\python39\\lib\\site-packages\\sklearn\\utils\\validation.py:1688: FutureWarning: Feature names only support names that are all strings. Got feature names with dtypes: ['int64', 'str']. An error will be raised in 1.2.\n",
      "  warnings.warn(\n",
      "c:\\users\\bilal\\appdata\\local\\programs\\python\\python39\\lib\\site-packages\\sklearn\\utils\\validation.py:1688: FutureWarning: Feature names only support names that are all strings. Got feature names with dtypes: ['int64', 'str']. An error will be raised in 1.2.\n",
      "  warnings.warn(\n",
      "c:\\users\\bilal\\appdata\\local\\programs\\python\\python39\\lib\\site-packages\\sklearn\\utils\\validation.py:1688: FutureWarning: Feature names only support names that are all strings. Got feature names with dtypes: ['int64', 'str']. An error will be raised in 1.2.\n",
      "  warnings.warn(\n",
      "c:\\users\\bilal\\appdata\\local\\programs\\python\\python39\\lib\\site-packages\\sklearn\\utils\\validation.py:1688: FutureWarning: Feature names only support names that are all strings. Got feature names with dtypes: ['int64', 'str']. An error will be raised in 1.2.\n",
      "  warnings.warn(\n",
      "c:\\users\\bilal\\appdata\\local\\programs\\python\\python39\\lib\\site-packages\\sklearn\\utils\\validation.py:1688: FutureWarning: Feature names only support names that are all strings. Got feature names with dtypes: ['int64', 'str']. An error will be raised in 1.2.\n",
      "  warnings.warn(\n",
      "c:\\users\\bilal\\appdata\\local\\programs\\python\\python39\\lib\\site-packages\\sklearn\\utils\\validation.py:1688: FutureWarning: Feature names only support names that are all strings. Got feature names with dtypes: ['int64', 'str']. An error will be raised in 1.2.\n",
      "  warnings.warn(\n",
      "c:\\users\\bilal\\appdata\\local\\programs\\python\\python39\\lib\\site-packages\\sklearn\\utils\\validation.py:1688: FutureWarning: Feature names only support names that are all strings. Got feature names with dtypes: ['int64', 'str']. An error will be raised in 1.2.\n",
      "  warnings.warn(\n",
      "c:\\users\\bilal\\appdata\\local\\programs\\python\\python39\\lib\\site-packages\\sklearn\\utils\\validation.py:1688: FutureWarning: Feature names only support names that are all strings. Got feature names with dtypes: ['int64', 'str']. An error will be raised in 1.2.\n",
      "  warnings.warn(\n",
      "c:\\users\\bilal\\appdata\\local\\programs\\python\\python39\\lib\\site-packages\\sklearn\\utils\\validation.py:1688: FutureWarning: Feature names only support names that are all strings. Got feature names with dtypes: ['int64', 'str']. An error will be raised in 1.2.\n",
      "  warnings.warn(\n"
     ]
    },
    {
     "name": "stdout",
     "output_type": "stream",
     "text": [
      "the average of r2 across folds is 0.8305017110805677 with std of 0.0318671373345452\n"
     ]
    }
   ],
   "source": [
    "from sklearn.ensemble import GradientBoostingRegressor\n",
    "from sklearn.model_selection import cross_val_score, cross_val_predict\n",
    "reg = GradientBoostingRegressor()\n",
    "\n",
    "\n",
    "\n",
    "# validation\n",
    "results  = cross_val_score(reg, X, y, cv= 5, scoring = \"r2\")  \n",
    "print (\"the average of r2 across folds is {avg} with std of {sig}\".format(avg = np.mean(results),\n",
    "                                                                            sig = np.std(results)))   "
   ]
  },
  {
   "cell_type": "code",
   "execution_count": 21,
   "id": "71cb9b2f",
   "metadata": {},
   "outputs": [
    {
     "name": "stderr",
     "output_type": "stream",
     "text": [
      "c:\\users\\bilal\\appdata\\local\\programs\\python\\python39\\lib\\site-packages\\sklearn\\utils\\validation.py:1688: FutureWarning: Feature names only support names that are all strings. Got feature names with dtypes: ['int64', 'str']. An error will be raised in 1.2.\n",
      "  warnings.warn(\n",
      "c:\\users\\bilal\\appdata\\local\\programs\\python\\python39\\lib\\site-packages\\sklearn\\utils\\validation.py:1688: FutureWarning: Feature names only support names that are all strings. Got feature names with dtypes: ['int64', 'str']. An error will be raised in 1.2.\n",
      "  warnings.warn(\n",
      "c:\\users\\bilal\\appdata\\local\\programs\\python\\python39\\lib\\site-packages\\sklearn\\utils\\validation.py:1688: FutureWarning: Feature names only support names that are all strings. Got feature names with dtypes: ['int64', 'str']. An error will be raised in 1.2.\n",
      "  warnings.warn(\n",
      "c:\\users\\bilal\\appdata\\local\\programs\\python\\python39\\lib\\site-packages\\sklearn\\utils\\validation.py:1688: FutureWarning: Feature names only support names that are all strings. Got feature names with dtypes: ['int64', 'str']. An error will be raised in 1.2.\n",
      "  warnings.warn(\n",
      "c:\\users\\bilal\\appdata\\local\\programs\\python\\python39\\lib\\site-packages\\sklearn\\utils\\validation.py:1688: FutureWarning: Feature names only support names that are all strings. Got feature names with dtypes: ['int64', 'str']. An error will be raised in 1.2.\n",
      "  warnings.warn(\n",
      "c:\\users\\bilal\\appdata\\local\\programs\\python\\python39\\lib\\site-packages\\sklearn\\utils\\validation.py:1688: FutureWarning: Feature names only support names that are all strings. Got feature names with dtypes: ['int64', 'str']. An error will be raised in 1.2.\n",
      "  warnings.warn(\n"
     ]
    },
    {
     "name": "stdout",
     "output_type": "stream",
     "text": [
      "[25937.65346201 28073.12755714 34134.97632218 ... 64529.72486686\n",
      " 52592.28190024 40811.64549955]\n"
     ]
    }
   ],
   "source": [
    "# predict\n",
    "\n",
    "predictions  = cross_val_predict(reg, X, y, cv= 3)  \n",
    "print(predictions)"
   ]
  },
  {
   "cell_type": "code",
   "execution_count": 22,
   "id": "5b681fee",
   "metadata": {},
   "outputs": [
    {
     "name": "stderr",
     "output_type": "stream",
     "text": [
      "c:\\users\\bilal\\appdata\\local\\programs\\python\\python39\\lib\\site-packages\\sklearn\\utils\\validation.py:1688: FutureWarning: Feature names only support names that are all strings. Got feature names with dtypes: ['int64', 'str']. An error will be raised in 1.2.\n",
      "  warnings.warn(\n"
     ]
    },
    {
     "data": {
      "text/html": [
       "<div>\n",
       "<style scoped>\n",
       "    .dataframe tbody tr th:only-of-type {\n",
       "        vertical-align: middle;\n",
       "    }\n",
       "\n",
       "    .dataframe tbody tr th {\n",
       "        vertical-align: top;\n",
       "    }\n",
       "\n",
       "    .dataframe thead th {\n",
       "        text-align: right;\n",
       "    }\n",
       "</style>\n",
       "<table border=\"1\" class=\"dataframe\">\n",
       "  <thead>\n",
       "    <tr style=\"text-align: right;\">\n",
       "      <th></th>\n",
       "      <th>0</th>\n",
       "    </tr>\n",
       "  </thead>\n",
       "  <tbody>\n",
       "    <tr>\n",
       "      <th>COTE_VO</th>\n",
       "      <td>0.917735</td>\n",
       "    </tr>\n",
       "    <tr>\n",
       "      <th>ANNEE</th>\n",
       "      <td>0.030099</td>\n",
       "    </tr>\n",
       "    <tr>\n",
       "      <th>4X4 S.U.V</th>\n",
       "      <td>0.013188</td>\n",
       "    </tr>\n",
       "    <tr>\n",
       "      <th>ESSENCE_ELECTRIQUE</th>\n",
       "      <td>0.010138</td>\n",
       "    </tr>\n",
       "    <tr>\n",
       "      <th>XC90</th>\n",
       "      <td>0.004193</td>\n",
       "    </tr>\n",
       "  </tbody>\n",
       "</table>\n",
       "</div>"
      ],
      "text/plain": [
       "                           0\n",
       "COTE_VO             0.917735\n",
       "ANNEE               0.030099\n",
       "4X4 S.U.V           0.013188\n",
       "ESSENCE_ELECTRIQUE  0.010138\n",
       "XC90                0.004193"
      ]
     },
     "execution_count": 22,
     "metadata": {},
     "output_type": "execute_result"
    }
   ],
   "source": [
    "# features importance\n",
    "reg.fit(X,y)\n",
    "feature_importances = reg.feature_importances_\n",
    "\n",
    "df_feature_importances = pd.DataFrame(feature_importances.reshape(1,-1), columns = X.columns)\n",
    "df_feature_importances.T.sort_values(ascending=False, by=0).head(5)"
   ]
  },
  {
   "cell_type": "markdown",
   "id": "6a3b9033",
   "metadata": {},
   "source": [
    "Again here, we remark that the most important feature is 'COTE_VO'"
   ]
  },
  {
   "cell_type": "markdown",
   "id": "acce28cf",
   "metadata": {},
   "source": [
    "# Conclusion"
   ]
  },
  {
   "cell_type": "code",
   "execution_count": 23,
   "id": "82907aea",
   "metadata": {},
   "outputs": [
    {
     "name": "stdout",
     "output_type": "stream",
     "text": [
      "69182588.73115434\n",
      "45389295.54407308\n"
     ]
    }
   ],
   "source": [
    "# the efficiency of our algorithm; compare the errors\n",
    "\n",
    "\n",
    "# error_1 between 'PRIX_VENTE_TTC' and 'COTE-VO'\n",
    "\n",
    "diff1 = new_data['COTE_VO'].values - y.values\n",
    "sq1 = np.square(diff1)\n",
    "mse1 = sq1.mean()\n",
    "print(mse1)\n",
    "\n",
    "# error_2 between 'Predictions' and 'COTE_VO'\n",
    "\n",
    "diff2 = new_data['COTE_VO'].values - predictions\n",
    "sq2 = np.square(diff2)\n",
    "mse2 = sq2.mean()\n",
    "print(mse2)\n",
    "\n"
   ]
  },
  {
   "cell_type": "markdown",
   "id": "46bada64",
   "metadata": {},
   "source": [
    "It's clear with our new values of 'PRIX_VENTE_TTC', the difference between 'PRIX_VENTE_TTC' and 'COTE_VO' is less than above and that's the objectif of this project!"
   ]
  }
 ],
 "metadata": {
  "kernelspec": {
   "display_name": "Python 3 (ipykernel)",
   "language": "python",
   "name": "python3"
  },
  "language_info": {
   "codemirror_mode": {
    "name": "ipython",
    "version": 3
   },
   "file_extension": ".py",
   "mimetype": "text/x-python",
   "name": "python",
   "nbconvert_exporter": "python",
   "pygments_lexer": "ipython3",
   "version": "3.9.6"
  }
 },
 "nbformat": 4,
 "nbformat_minor": 5
}
