{
 "cells": [
  {
   "cell_type": "code",
   "execution_count": 1,
   "id": "dd4d972f",
   "metadata": {},
   "outputs": [],
   "source": [
    "import numpy as np\n",
    "import pandas as pd\n",
    "from numpy import linalg as LA\n",
    "import matplotlib.pyplot as plt\n",
    "import seaborn as sns"
   ]
  },
  {
   "cell_type": "code",
   "execution_count": 2,
   "id": "8a8645de",
   "metadata": {},
   "outputs": [],
   "source": [
    "#call_data\n",
    "df = pd.read_excel('dataA.xlsx')"
   ]
  },
  {
   "cell_type": "code",
   "execution_count": 4,
   "id": "a30b6e8a",
   "metadata": {},
   "outputs": [
    {
     "data": {
      "text/html": [
       "<div>\n",
       "<style scoped>\n",
       "    .dataframe tbody tr th:only-of-type {\n",
       "        vertical-align: middle;\n",
       "    }\n",
       "\n",
       "    .dataframe tbody tr th {\n",
       "        vertical-align: top;\n",
       "    }\n",
       "\n",
       "    .dataframe thead th {\n",
       "        text-align: right;\n",
       "    }\n",
       "</style>\n",
       "<table border=\"1\" class=\"dataframe\">\n",
       "  <thead>\n",
       "    <tr style=\"text-align: right;\">\n",
       "      <th></th>\n",
       "      <th>REFERENCE_ID_MULTIPLE</th>\n",
       "      <th>REFERENCE_VERSION_ID</th>\n",
       "      <th>DELETE_REASON</th>\n",
       "      <th>ANNEE</th>\n",
       "      <th>PRIX</th>\n",
       "      <th>KM</th>\n",
       "    </tr>\n",
       "  </thead>\n",
       "  <tbody>\n",
       "    <tr>\n",
       "      <th>0</th>\n",
       "      <td>103116</td>\n",
       "      <td>103116</td>\n",
       "      <td>NaN</td>\n",
       "      <td>2015</td>\n",
       "      <td>12890</td>\n",
       "      <td>75000</td>\n",
       "    </tr>\n",
       "    <tr>\n",
       "      <th>1</th>\n",
       "      <td>103116</td>\n",
       "      <td>103116</td>\n",
       "      <td>NaN</td>\n",
       "      <td>2015</td>\n",
       "      <td>12890</td>\n",
       "      <td>75000</td>\n",
       "    </tr>\n",
       "    <tr>\n",
       "      <th>2</th>\n",
       "      <td>103116</td>\n",
       "      <td>103116</td>\n",
       "      <td>NaN</td>\n",
       "      <td>2015</td>\n",
       "      <td>12979</td>\n",
       "      <td>106719</td>\n",
       "    </tr>\n",
       "    <tr>\n",
       "      <th>3</th>\n",
       "      <td>103116</td>\n",
       "      <td>103116</td>\n",
       "      <td>NaN</td>\n",
       "      <td>2015</td>\n",
       "      <td>12999</td>\n",
       "      <td>106001</td>\n",
       "    </tr>\n",
       "    <tr>\n",
       "      <th>4</th>\n",
       "      <td>103116</td>\n",
       "      <td>103116</td>\n",
       "      <td>NaN</td>\n",
       "      <td>2015</td>\n",
       "      <td>13990</td>\n",
       "      <td>40000</td>\n",
       "    </tr>\n",
       "  </tbody>\n",
       "</table>\n",
       "</div>"
      ],
      "text/plain": [
       "  REFERENCE_ID_MULTIPLE  REFERENCE_VERSION_ID DELETE_REASON  ANNEE   PRIX  \\\n",
       "0                103116                103116           NaN   2015  12890   \n",
       "1                103116                103116           NaN   2015  12890   \n",
       "2                103116                103116           NaN   2015  12979   \n",
       "3                103116                103116           NaN   2015  12999   \n",
       "4                103116                103116           NaN   2015  13990   \n",
       "\n",
       "       KM  \n",
       "0   75000  \n",
       "1   75000  \n",
       "2  106719  \n",
       "3  106001  \n",
       "4   40000  "
      ]
     },
     "execution_count": 4,
     "metadata": {},
     "output_type": "execute_result"
    }
   ],
   "source": [
    "df.head()"
   ]
  },
  {
   "cell_type": "code",
   "execution_count": 5,
   "id": "105e2554",
   "metadata": {},
   "outputs": [],
   "source": [
    "#clean, rename, and remove unnecessary features\n",
    "df.rename(columns={\"ANNEE\":\"year\",\"PRIX\":\"price\",\"KM\":\"km\", \"REFERENCE_VERSION_ID\" : \"generation\"}, inplace=True)\n",
    "df= df.drop(['REFERENCE_ID_MULTIPLE' , 'DELETE_REASON'], axis= 1)\n",
    "df['generation'].replace([103116, 143794], [1, 2], inplace= True) # 0 unkown, 1 1st generation , 2 2d generation"
   ]
  },
  {
   "cell_type": "code",
   "execution_count": 6,
   "id": "cf3a3859",
   "metadata": {},
   "outputs": [
    {
     "data": {
      "text/html": [
       "<div>\n",
       "<style scoped>\n",
       "    .dataframe tbody tr th:only-of-type {\n",
       "        vertical-align: middle;\n",
       "    }\n",
       "\n",
       "    .dataframe tbody tr th {\n",
       "        vertical-align: top;\n",
       "    }\n",
       "\n",
       "    .dataframe thead th {\n",
       "        text-align: right;\n",
       "    }\n",
       "</style>\n",
       "<table border=\"1\" class=\"dataframe\">\n",
       "  <thead>\n",
       "    <tr style=\"text-align: right;\">\n",
       "      <th></th>\n",
       "      <th>generation</th>\n",
       "      <th>year</th>\n",
       "      <th>price</th>\n",
       "      <th>km</th>\n",
       "    </tr>\n",
       "  </thead>\n",
       "  <tbody>\n",
       "    <tr>\n",
       "      <th>0</th>\n",
       "      <td>1</td>\n",
       "      <td>2015</td>\n",
       "      <td>12890</td>\n",
       "      <td>75000</td>\n",
       "    </tr>\n",
       "    <tr>\n",
       "      <th>1</th>\n",
       "      <td>1</td>\n",
       "      <td>2015</td>\n",
       "      <td>12890</td>\n",
       "      <td>75000</td>\n",
       "    </tr>\n",
       "    <tr>\n",
       "      <th>2</th>\n",
       "      <td>1</td>\n",
       "      <td>2015</td>\n",
       "      <td>12979</td>\n",
       "      <td>106719</td>\n",
       "    </tr>\n",
       "    <tr>\n",
       "      <th>3</th>\n",
       "      <td>1</td>\n",
       "      <td>2015</td>\n",
       "      <td>12999</td>\n",
       "      <td>106001</td>\n",
       "    </tr>\n",
       "    <tr>\n",
       "      <th>4</th>\n",
       "      <td>1</td>\n",
       "      <td>2015</td>\n",
       "      <td>13990</td>\n",
       "      <td>40000</td>\n",
       "    </tr>\n",
       "  </tbody>\n",
       "</table>\n",
       "</div>"
      ],
      "text/plain": [
       "   generation  year  price      km\n",
       "0           1  2015  12890   75000\n",
       "1           1  2015  12890   75000\n",
       "2           1  2015  12979  106719\n",
       "3           1  2015  12999  106001\n",
       "4           1  2015  13990   40000"
      ]
     },
     "execution_count": 6,
     "metadata": {},
     "output_type": "execute_result"
    }
   ],
   "source": [
    "df.head()"
   ]
  },
  {
   "cell_type": "code",
   "execution_count": 7,
   "id": "f4f588b7",
   "metadata": {},
   "outputs": [
    {
     "data": {
      "text/plain": [
       "2    300\n",
       "0    127\n",
       "1    118\n",
       "Name: generation, dtype: int64"
      ]
     },
     "execution_count": 7,
     "metadata": {},
     "output_type": "execute_result"
    }
   ],
   "source": [
    "#According to txt_file, one can compute the number of cars with generation I, generation II, and unknown generation\n",
    "df['generation'].value_counts()"
   ]
  },
  {
   "cell_type": "markdown",
   "id": "e95839bc",
   "metadata": {},
   "source": [
    "From above we can deduce that: Number of cars with generation II is: 300 Number of cars with generation I is: 118 Unknown generation: 127"
   ]
  },
  {
   "cell_type": "code",
   "execution_count": 8,
   "id": "f02d8dd7",
   "metadata": {},
   "outputs": [
    {
     "data": {
      "text/plain": [
       "<AxesSubplot:>"
      ]
     },
     "execution_count": 8,
     "metadata": {},
     "output_type": "execute_result"
    },
    {
     "data": {
      "image/png": "[encoded data removed]",
      "text/plain": [
       "<Figure size 432x288 with 1 Axes>"
      ]
     },
     "metadata": {
      "needs_background": "light"
     },
     "output_type": "display_data"
    }
   ],
   "source": [
    "#Visualize the distribution of generations\n",
    "df['generation'].value_counts().plot.bar()"
   ]
  },
  {
   "cell_type": "markdown",
   "id": "1d6ffba7",
   "metadata": {},
   "source": [
    "# Geometrical and Statistical Analysis of the Data"
   ]
  },
  {
   "cell_type": "code",
   "execution_count": 9,
   "id": "d7a4f868",
   "metadata": {},
   "outputs": [
    {
     "data": {
      "text/plain": [
       "generation  year\n",
       "0           2016    114\n",
       "            2017     13\n",
       "1           2015     65\n",
       "            2016     48\n",
       "            2017      5\n",
       "2           2019    219\n",
       "            2018     81\n",
       "Name: year, dtype: int64"
      ]
     },
     "execution_count": 9,
     "metadata": {},
     "output_type": "execute_result"
    }
   ],
   "source": [
    "#let's see if between the unknown generation, there are cars registered in 2015. In this case, these cars are affiliated to G. I\n",
    "df.groupby(['generation'])['year'].value_counts()"
   ]
  },
  {
   "cell_type": "markdown",
   "id": "e27b1871",
   "metadata": {},
   "source": [
    "No immediate conclusion could be taken on the cars with unknown generation since no one is registered in 2015"
   ]
  },
  {
   "cell_type": "raw",
   "id": "fdf0d392",
   "metadata": {},
   "source": [
    "Let'separate the two generations and study their characteristic"
   ]
  },
  {
   "cell_type": "code",
   "execution_count": 10,
   "id": "7b474159",
   "metadata": {},
   "outputs": [],
   "source": [
    "df_I = df[df['generation'] == 1]\n",
    "df_II = df[df['generation'] == 2]\n",
    "df_0= df[df['generation'] == 0]"
   ]
  },
  {
   "cell_type": "code",
   "execution_count": 11,
   "id": "0aa6052e",
   "metadata": {},
   "outputs": [
    {
     "data": {
      "text/html": [
       "<div>\n",
       "<style scoped>\n",
       "    .dataframe tbody tr th:only-of-type {\n",
       "        vertical-align: middle;\n",
       "    }\n",
       "\n",
       "    .dataframe tbody tr th {\n",
       "        vertical-align: top;\n",
       "    }\n",
       "\n",
       "    .dataframe thead th {\n",
       "        text-align: right;\n",
       "    }\n",
       "</style>\n",
       "<table border=\"1\" class=\"dataframe\">\n",
       "  <thead>\n",
       "    <tr style=\"text-align: right;\">\n",
       "      <th></th>\n",
       "      <th>generation</th>\n",
       "      <th>year</th>\n",
       "      <th>price</th>\n",
       "      <th>km</th>\n",
       "    </tr>\n",
       "  </thead>\n",
       "  <tbody>\n",
       "    <tr>\n",
       "      <th>count</th>\n",
       "      <td>118.0</td>\n",
       "      <td>118.000000</td>\n",
       "      <td>118.000000</td>\n",
       "      <td>118.000000</td>\n",
       "    </tr>\n",
       "    <tr>\n",
       "      <th>mean</th>\n",
       "      <td>1.0</td>\n",
       "      <td>2015.491525</td>\n",
       "      <td>16153.101695</td>\n",
       "      <td>52826.889831</td>\n",
       "    </tr>\n",
       "    <tr>\n",
       "      <th>std</th>\n",
       "      <td>0.0</td>\n",
       "      <td>0.580977</td>\n",
       "      <td>2048.718413</td>\n",
       "      <td>19474.468385</td>\n",
       "    </tr>\n",
       "    <tr>\n",
       "      <th>min</th>\n",
       "      <td>1.0</td>\n",
       "      <td>2015.000000</td>\n",
       "      <td>12890.000000</td>\n",
       "      <td>19001.000000</td>\n",
       "    </tr>\n",
       "    <tr>\n",
       "      <th>25%</th>\n",
       "      <td>1.0</td>\n",
       "      <td>2015.000000</td>\n",
       "      <td>14990.000000</td>\n",
       "      <td>38353.250000</td>\n",
       "    </tr>\n",
       "    <tr>\n",
       "      <th>50%</th>\n",
       "      <td>1.0</td>\n",
       "      <td>2015.000000</td>\n",
       "      <td>15645.000000</td>\n",
       "      <td>48948.500000</td>\n",
       "    </tr>\n",
       "    <tr>\n",
       "      <th>75%</th>\n",
       "      <td>1.0</td>\n",
       "      <td>2016.000000</td>\n",
       "      <td>16940.000000</td>\n",
       "      <td>75000.000000</td>\n",
       "    </tr>\n",
       "    <tr>\n",
       "      <th>max</th>\n",
       "      <td>1.0</td>\n",
       "      <td>2017.000000</td>\n",
       "      <td>22290.000000</td>\n",
       "      <td>106719.000000</td>\n",
       "    </tr>\n",
       "  </tbody>\n",
       "</table>\n",
       "</div>"
      ],
      "text/plain": [
       "       generation         year         price             km\n",
       "count       118.0   118.000000    118.000000     118.000000\n",
       "mean          1.0  2015.491525  16153.101695   52826.889831\n",
       "std           0.0     0.580977   2048.718413   19474.468385\n",
       "min           1.0  2015.000000  12890.000000   19001.000000\n",
       "25%           1.0  2015.000000  14990.000000   38353.250000\n",
       "50%           1.0  2015.000000  15645.000000   48948.500000\n",
       "75%           1.0  2016.000000  16940.000000   75000.000000\n",
       "max           1.0  2017.000000  22290.000000  106719.000000"
      ]
     },
     "execution_count": 11,
     "metadata": {},
     "output_type": "execute_result"
    }
   ],
   "source": [
    "df_I.describe()"
   ]
  },
  {
   "cell_type": "markdown",
   "id": "2ada73b2",
   "metadata": {},
   "source": [
    "75% of cars with generation I are registered in 2016, of prices 16940, and have travelled 75000km"
   ]
  },
  {
   "cell_type": "code",
   "execution_count": 12,
   "id": "23fea6bb",
   "metadata": {},
   "outputs": [
    {
     "data": {
      "text/html": [
       "<div>\n",
       "<style scoped>\n",
       "    .dataframe tbody tr th:only-of-type {\n",
       "        vertical-align: middle;\n",
       "    }\n",
       "\n",
       "    .dataframe tbody tr th {\n",
       "        vertical-align: top;\n",
       "    }\n",
       "\n",
       "    .dataframe thead th {\n",
       "        text-align: right;\n",
       "    }\n",
       "</style>\n",
       "<table border=\"1\" class=\"dataframe\">\n",
       "  <thead>\n",
       "    <tr style=\"text-align: right;\">\n",
       "      <th></th>\n",
       "      <th>generation</th>\n",
       "      <th>year</th>\n",
       "      <th>price</th>\n",
       "      <th>km</th>\n",
       "    </tr>\n",
       "  </thead>\n",
       "  <tbody>\n",
       "    <tr>\n",
       "      <th>count</th>\n",
       "      <td>300.0</td>\n",
       "      <td>300.000000</td>\n",
       "      <td>300.000000</td>\n",
       "      <td>300.000000</td>\n",
       "    </tr>\n",
       "    <tr>\n",
       "      <th>mean</th>\n",
       "      <td>2.0</td>\n",
       "      <td>2018.730000</td>\n",
       "      <td>27549.926667</td>\n",
       "      <td>8884.176667</td>\n",
       "    </tr>\n",
       "    <tr>\n",
       "      <th>std</th>\n",
       "      <td>0.0</td>\n",
       "      <td>0.444701</td>\n",
       "      <td>1650.094290</td>\n",
       "      <td>10189.487157</td>\n",
       "    </tr>\n",
       "    <tr>\n",
       "      <th>min</th>\n",
       "      <td>2.0</td>\n",
       "      <td>2018.000000</td>\n",
       "      <td>23490.000000</td>\n",
       "      <td>0.000000</td>\n",
       "    </tr>\n",
       "    <tr>\n",
       "      <th>25%</th>\n",
       "      <td>2.0</td>\n",
       "      <td>2018.000000</td>\n",
       "      <td>26430.000000</td>\n",
       "      <td>10.000000</td>\n",
       "    </tr>\n",
       "    <tr>\n",
       "      <th>50%</th>\n",
       "      <td>2.0</td>\n",
       "      <td>2019.000000</td>\n",
       "      <td>27490.000000</td>\n",
       "      <td>4022.000000</td>\n",
       "    </tr>\n",
       "    <tr>\n",
       "      <th>75%</th>\n",
       "      <td>2.0</td>\n",
       "      <td>2019.000000</td>\n",
       "      <td>28502.500000</td>\n",
       "      <td>18100.000000</td>\n",
       "    </tr>\n",
       "    <tr>\n",
       "      <th>max</th>\n",
       "      <td>2.0</td>\n",
       "      <td>2019.000000</td>\n",
       "      <td>33990.000000</td>\n",
       "      <td>36130.000000</td>\n",
       "    </tr>\n",
       "  </tbody>\n",
       "</table>\n",
       "</div>"
      ],
      "text/plain": [
       "       generation         year         price            km\n",
       "count       300.0   300.000000    300.000000    300.000000\n",
       "mean          2.0  2018.730000  27549.926667   8884.176667\n",
       "std           0.0     0.444701   1650.094290  10189.487157\n",
       "min           2.0  2018.000000  23490.000000      0.000000\n",
       "25%           2.0  2018.000000  26430.000000     10.000000\n",
       "50%           2.0  2019.000000  27490.000000   4022.000000\n",
       "75%           2.0  2019.000000  28502.500000  18100.000000\n",
       "max           2.0  2019.000000  33990.000000  36130.000000"
      ]
     },
     "execution_count": 12,
     "metadata": {},
     "output_type": "execute_result"
    }
   ],
   "source": [
    "df_II.describe()"
   ]
  },
  {
   "cell_type": "markdown",
   "id": "2ebe4e8b",
   "metadata": {},
   "source": [
    "75% of cars with generation II are registered in 2019, of prices 28502, and have travelled 18100km"
   ]
  },
  {
   "cell_type": "raw",
   "id": "3516b534",
   "metadata": {},
   "source": [
    "We can notice that there is a big difference between the two generation in terms of features"
   ]
  },
  {
   "cell_type": "code",
   "execution_count": 13,
   "id": "5aed93af",
   "metadata": {},
   "outputs": [
    {
     "data": {
      "text/html": [
       "<div>\n",
       "<style scoped>\n",
       "    .dataframe tbody tr th:only-of-type {\n",
       "        vertical-align: middle;\n",
       "    }\n",
       "\n",
       "    .dataframe tbody tr th {\n",
       "        vertical-align: top;\n",
       "    }\n",
       "\n",
       "    .dataframe thead th {\n",
       "        text-align: right;\n",
       "    }\n",
       "</style>\n",
       "<table border=\"1\" class=\"dataframe\">\n",
       "  <thead>\n",
       "    <tr style=\"text-align: right;\">\n",
       "      <th></th>\n",
       "      <th>generation</th>\n",
       "      <th>year</th>\n",
       "      <th>price</th>\n",
       "      <th>km</th>\n",
       "    </tr>\n",
       "  </thead>\n",
       "  <tbody>\n",
       "    <tr>\n",
       "      <th>count</th>\n",
       "      <td>127.0</td>\n",
       "      <td>127.000000</td>\n",
       "      <td>127.000000</td>\n",
       "      <td>127.000000</td>\n",
       "    </tr>\n",
       "    <tr>\n",
       "      <th>mean</th>\n",
       "      <td>0.0</td>\n",
       "      <td>2016.102362</td>\n",
       "      <td>17467.370079</td>\n",
       "      <td>40668.976378</td>\n",
       "    </tr>\n",
       "    <tr>\n",
       "      <th>std</th>\n",
       "      <td>0.0</td>\n",
       "      <td>0.304325</td>\n",
       "      <td>2163.442193</td>\n",
       "      <td>16558.647792</td>\n",
       "    </tr>\n",
       "    <tr>\n",
       "      <th>min</th>\n",
       "      <td>0.0</td>\n",
       "      <td>2016.000000</td>\n",
       "      <td>13990.000000</td>\n",
       "      <td>13757.000000</td>\n",
       "    </tr>\n",
       "    <tr>\n",
       "      <th>25%</th>\n",
       "      <td>0.0</td>\n",
       "      <td>2016.000000</td>\n",
       "      <td>15990.000000</td>\n",
       "      <td>31537.000000</td>\n",
       "    </tr>\n",
       "    <tr>\n",
       "      <th>50%</th>\n",
       "      <td>0.0</td>\n",
       "      <td>2016.000000</td>\n",
       "      <td>17290.000000</td>\n",
       "      <td>35000.000000</td>\n",
       "    </tr>\n",
       "    <tr>\n",
       "      <th>75%</th>\n",
       "      <td>0.0</td>\n",
       "      <td>2016.000000</td>\n",
       "      <td>17990.000000</td>\n",
       "      <td>47093.500000</td>\n",
       "    </tr>\n",
       "    <tr>\n",
       "      <th>max</th>\n",
       "      <td>0.0</td>\n",
       "      <td>2017.000000</td>\n",
       "      <td>22290.000000</td>\n",
       "      <td>94415.000000</td>\n",
       "    </tr>\n",
       "  </tbody>\n",
       "</table>\n",
       "</div>"
      ],
      "text/plain": [
       "       generation         year         price            km\n",
       "count       127.0   127.000000    127.000000    127.000000\n",
       "mean          0.0  2016.102362  17467.370079  40668.976378\n",
       "std           0.0     0.304325   2163.442193  16558.647792\n",
       "min           0.0  2016.000000  13990.000000  13757.000000\n",
       "25%           0.0  2016.000000  15990.000000  31537.000000\n",
       "50%           0.0  2016.000000  17290.000000  35000.000000\n",
       "75%           0.0  2016.000000  17990.000000  47093.500000\n",
       "max           0.0  2017.000000  22290.000000  94415.000000"
      ]
     },
     "execution_count": 13,
     "metadata": {},
     "output_type": "execute_result"
    }
   ],
   "source": [
    "df_0.describe()"
   ]
  },
  {
   "cell_type": "markdown",
   "id": "7d203da8",
   "metadata": {},
   "source": [
    "75% of cars with generation 0 are registered in 2017, of prices 17990, and have travelled 47039km"
   ]
  },
  {
   "cell_type": "raw",
   "id": "f8fea28c",
   "metadata": {},
   "source": [
    "Statistically saying: We can notice that the characteristic of the cars with unknown generation are close to those who belongs to first generation!"
   ]
  },
  {
   "cell_type": "raw",
   "id": "71a8a9c0",
   "metadata": {},
   "source": [
    "Let's try to illustrate the above statistic observation by using geometric tools"
   ]
  },
  {
   "cell_type": "code",
   "execution_count": 14,
   "id": "a1756ab1",
   "metadata": {},
   "outputs": [
    {
     "data": {
      "image/png": "[encoded data removed]",
      "text/plain": [
       "<Figure size 432x288 with 1 Axes>"
      ]
     },
     "metadata": {
      "needs_background": "light"
     },
     "output_type": "display_data"
    }
   ],
   "source": [
    "# km and year combination\n",
    "plt.figure()\n",
    "plt.scatter(df[df[\"generation\"]==1][\"km\"].values, df[df[\"generation\"]==1][\"year\"].values, color=\"b\",label=\"1st generation\")\n",
    "plt.scatter(df[df[\"generation\"]==2][\"km\"].values, df[df[\"generation\"]==2][\"year\"].values, color=\"r\",label=\"2ed generation\")\n",
    "plt.scatter(df[df[\"generation\"]==0][\"km\"].values, df[df[\"generation\"]==0][\"year\"].values, color=\"g\", label=\"unknown\")\n",
    "plt.xlabel(\"km\")\n",
    "plt.ylabel(\"year\")\n",
    "plt.legend(loc=\"upper right\")\n",
    "plt.show()"
   ]
  },
  {
   "cell_type": "markdown",
   "id": "13dbfeeb",
   "metadata": {},
   "source": [
    "The cars with unknown generation are close to those of first generation "
   ]
  },
  {
   "cell_type": "code",
   "execution_count": 15,
   "id": "8ce8342d",
   "metadata": {},
   "outputs": [
    {
     "data": {
      "image/png": "[encoded data removed]",
      "text/plain": [
       "<Figure size 432x288 with 1 Axes>"
      ]
     },
     "metadata": {
      "needs_background": "light"
     },
     "output_type": "display_data"
    }
   ],
   "source": [
    "# km and price combination\n",
    "plt.figure()\n",
    "plt.scatter(df[df[\"generation\"]==1][\"km\"].values, df[df[\"generation\"]==1][\"price\"].values, color=\"b\",label=\"1st generation\")\n",
    "plt.scatter(df[df[\"generation\"]==2][\"km\"].values, df[df[\"generation\"]==2][\"price\"].values, color=\"r\",label=\"2ed generation\")\n",
    "plt.scatter(df[df[\"generation\"]==0][\"km\"].values, df[df[\"generation\"]==0][\"price\"].values, color=\"g\", label=\"unknown\")\n",
    "plt.xlabel(\"km\")\n",
    "plt.ylabel(\"price\")\n",
    "plt.legend(loc=\"upper right\")\n",
    "plt.show()"
   ]
  },
  {
   "cell_type": "markdown",
   "id": "37b99f70",
   "metadata": {},
   "source": [
    "Same conclusion: The cars with unknown generation are close to those of first generation"
   ]
  },
  {
   "cell_type": "code",
   "execution_count": 16,
   "id": "c81575a2",
   "metadata": {},
   "outputs": [
    {
     "data": {
      "image/png": "[encoded data removed]",
      "text/plain": [
       "<Figure size 432x288 with 1 Axes>"
      ]
     },
     "metadata": {
      "needs_background": "light"
     },
     "output_type": "display_data"
    }
   ],
   "source": [
    "# year and price combination\n",
    "plt.figure()\n",
    "plt.scatter(df[df[\"generation\"]==1][\"year\"].values, df[df[\"generation\"]==1][\"price\"].values, color=\"b\",label=\"1st generation\")\n",
    "plt.scatter(df[df[\"generation\"]==2][\"year\"].values, df[df[\"generation\"]==2][\"price\"].values, color=\"r\",label=\"2ed generation\")\n",
    "plt.scatter(df[df[\"generation\"]==0][\"year\"].values, df[df[\"generation\"]==0][\"price\"].values, color=\"g\", label=\"unknown\")\n",
    "plt.xlabel(\"year\")\n",
    "plt.ylabel(\"price\")\n",
    "plt.legend(loc=\"upper right\")\n",
    "plt.show()"
   ]
  },
  {
   "cell_type": "raw",
   "id": "85a308c4",
   "metadata": {},
   "source": [
    "We can give a \"mathematical justification\" of the above observation by calculating the Euclidean distance between features of unknown generation with those of generation I and generation II"
   ]
  },
  {
   "cell_type": "code",
   "execution_count": 17,
   "id": "1bce7a86",
   "metadata": {},
   "outputs": [
    {
     "name": "stdout",
     "output_type": "stream",
     "text": [
      "the number of cars with unknown generation expected belonging to first generation is 127\n",
      "the number of cars with unknown generation expected belonging to second generation is  0\n"
     ]
    }
   ],
   "source": [
    "#basic method: calculate the Euclidean distance:\n",
    "df1 = df_0.drop(['generation'], axis= 1)   #drop generation feature\n",
    "i=0 \n",
    "le=df_0.shape[0]\n",
    "f1=0  #number of cars in unknown generation expected to belong to 1st generation #initialization\n",
    "f2=0  #number of cars in unknown generation expected to belong to 1st generation #initialization\n",
    "for i in range(le):\n",
    "    if LA.norm(df1.iloc[i, :].values - np.array([df_I['year'].mean(), df_I['price'].mean(), df_I['km'].mean()]))< LA.norm(df1.iloc[1, :] - np.array([df_II['year'].mean(), df_II['price'].mean(), df_II['km'].mean()])):\n",
    "        f1+=1\n",
    "    else:\n",
    "        f2+=1\n",
    "print(\"the number of cars with unknown generation expected belonging to first generation is\", str(f1) + \"\\n\" \"the number of cars with unknown generation expected belonging to second generation is \",  str(f2)) "
   ]
  },
  {
   "cell_type": "markdown",
   "id": "c0c11ac7",
   "metadata": {},
   "source": [
    "# Predict generation using tools from MachineLearning"
   ]
  },
  {
   "cell_type": "code",
   "execution_count": 18,
   "id": "bc670621",
   "metadata": {},
   "outputs": [],
   "source": [
    "#separate train and test data\n",
    "train_df = df[(df[\"generation\"]==1) | ( df[\"generation\"]==2)]\n",
    "test_df = df[df[\"generation\"]==0]\n",
    "train_set, train_label = train_df[[\"year\",\"price\",\"km\"]].values, train_df[\"generation\"].values\n",
    "test_set = test_df[[\"year\",\"price\",\"km\"]].values"
   ]
  },
  {
   "cell_type": "code",
   "execution_count": 19,
   "id": "273f9a00",
   "metadata": {},
   "outputs": [],
   "source": [
    "#normalize data\n",
    "def handle_year(df):\n",
    "  df[\"year\"] = df[\"year\"] - df[\"year\"].min()\n",
    "  return df\n",
    "\n",
    "from sklearn.preprocessing import MinMaxScaler\n",
    "\n",
    "df = handle_year(df)\n",
    "scaler = MinMaxScaler()\n",
    "train_set_scaled = scaler.fit_transform(train_set)\n",
    "test_set_scaled = scaler.transform(test_set)"
   ]
  },
  {
   "cell_type": "code",
   "execution_count": 20,
   "id": "949db176",
   "metadata": {},
   "outputs": [],
   "source": [
    "from sklearn.model_selection import train_test_split, cross_val_score\n",
    "from sklearn.metrics import accuracy_score\n",
    "from sklearn.ensemble import GradientBoostingClassifier"
   ]
  },
  {
   "cell_type": "code",
   "execution_count": 21,
   "id": "edf8ad61",
   "metadata": {},
   "outputs": [],
   "source": [
    "precisions = accs = recall = []\n",
    "# for model evaluation\n",
    "\n",
    "clf = GradientBoostingClassifier()\n",
    "precisions = cross_val_score(clf, train_set_scaled, train_label, cv=5, scoring=\"precision\")\n",
    "accs = cross_val_score(clf, train_set_scaled, train_label, cv=5, scoring=\"accuracy\")\n",
    "recall = cross_val_score(clf, train_set_scaled, train_label, cv=5, scoring=\"recall\")\n",
    "\n",
    "\n",
    "\n",
    "\n",
    "# for the application\n",
    "clf.fit(train_set_scaled, train_label)\n",
    "predictions = clf.predict(test_set_scaled)"
   ]
  },
  {
   "cell_type": "code",
   "execution_count": 22,
   "id": "3689a671",
   "metadata": {},
   "outputs": [
    {
     "data": {
      "text/plain": [
       "array([1, 1, 1, 1, 1, 1, 1, 1, 1, 1, 1, 1, 1, 1, 1, 1, 1, 1, 1, 1, 1, 1,\n",
       "       1, 1, 1, 1, 1, 1, 1, 1, 1, 1, 1, 1, 1, 1, 1, 1, 1, 1, 1, 1, 1, 1,\n",
       "       1, 1, 1, 1, 1, 1, 1, 1, 1, 1, 1, 1, 1, 1, 1, 1, 1, 1, 1, 1, 1, 1,\n",
       "       1, 1, 1, 1, 1, 1, 1, 1, 1, 1, 1, 1, 1, 1, 1, 1, 1, 1, 1, 1, 1, 1,\n",
       "       1, 1, 1, 1, 1, 1, 1, 1, 1, 1, 1, 1, 1, 1, 1, 1, 1, 1, 1, 1, 1, 1,\n",
       "       1, 1, 1, 1, 1, 1, 1, 1, 1, 1, 1, 1, 1, 1, 1, 1, 1], dtype=int64)"
      ]
     },
     "execution_count": 22,
     "metadata": {},
     "output_type": "execute_result"
    }
   ],
   "source": [
    "predictions"
   ]
  },
  {
   "cell_type": "markdown",
   "id": "6dd143b8",
   "metadata": {},
   "source": [
    "    Conclusion: all cars with unknown generation are then estimated to belong to first generation."
   ]
  }
 ],
 "metadata": {
  "kernelspec": {
   "display_name": "Python 3 (ipykernel)",
   "language": "python",
   "name": "python3"
  },
  "language_info": {
   "codemirror_mode": {
    "name": "ipython",
    "version": 3
   },
   "file_extension": ".py",
   "mimetype": "text/x-python",
   "name": "python",
   "nbconvert_exporter": "python",
   "pygments_lexer": "ipython3",
   "version": "3.9.6"
  }
 },
 "nbformat": 4,
 "nbformat_minor": 5
}
